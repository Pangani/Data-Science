{
 "cells": [
  {
   "cell_type": "markdown",
   "id": "2d847d4a",
   "metadata": {},
   "source": [
    "### Sales Data Analysis\n",
    "\n",
    "This notebook explores the analysis of sales data using the data science popular libraries like pandas, numpy and matplotlib."
   ]
  },
  {
   "cell_type": "markdown",
   "id": "6b828213",
   "metadata": {},
   "source": [
    "We have answered these 5 questions through our data analysis mainly using pandas and matplotlib library.\n",
    "\n",
    "Q1. What is the overall sales trend?\n",
    "Q2. Which are the Top 10 products by sales?\n",
    "Q3. Which are the Most Selling Products?\n",
    "Q4. Which is the most preferred Ship Mode?\n",
    "Q5. Which are the Most Profitable Category and Sub-Category?"
   ]
  },
  {
   "cell_type": "code",
   "execution_count": 1,
   "id": "616ea022",
   "metadata": {},
   "outputs": [],
   "source": [
    "# required libraries\n",
    "\n",
    "import pandas as pd\n",
    "import matplotlib.pyplot as plt\n",
    "import seaborn as sns\n",
    "\n",
    "%matplotlib inline"
   ]
  },
  {
   "cell_type": "code",
   "execution_count": 2,
   "id": "8e339514",
   "metadata": {},
   "outputs": [
    {
     "name": "stdout",
     "output_type": "stream",
     "text": [
      "Requirement already satisfied: xlrd in /Users/roypangani/miniconda3/envs/royenv/lib/python3.10/site-packages (2.0.1)\n"
     ]
    }
   ],
   "source": [
    "!pip install xlrd"
   ]
  },
  {
   "cell_type": "code",
   "execution_count": 3,
   "id": "96913e89",
   "metadata": {},
   "outputs": [
    {
     "data": {
      "text/html": [
       "<div>\n",
       "<style scoped>\n",
       "    .dataframe tbody tr th:only-of-type {\n",
       "        vertical-align: middle;\n",
       "    }\n",
       "\n",
       "    .dataframe tbody tr th {\n",
       "        vertical-align: top;\n",
       "    }\n",
       "\n",
       "    .dataframe thead th {\n",
       "        text-align: right;\n",
       "    }\n",
       "</style>\n",
       "<table border=\"1\" class=\"dataframe\">\n",
       "  <thead>\n",
       "    <tr style=\"text-align: right;\">\n",
       "      <th></th>\n",
       "      <th>order_id</th>\n",
       "      <th>order_date</th>\n",
       "      <th>ship_date</th>\n",
       "      <th>ship_mode</th>\n",
       "      <th>customer_name</th>\n",
       "      <th>segment</th>\n",
       "      <th>state</th>\n",
       "      <th>country</th>\n",
       "      <th>market</th>\n",
       "      <th>region</th>\n",
       "      <th>...</th>\n",
       "      <th>category</th>\n",
       "      <th>sub_category</th>\n",
       "      <th>product_name</th>\n",
       "      <th>sales</th>\n",
       "      <th>quantity</th>\n",
       "      <th>discount</th>\n",
       "      <th>profit</th>\n",
       "      <th>shipping_cost</th>\n",
       "      <th>order_priority</th>\n",
       "      <th>year</th>\n",
       "    </tr>\n",
       "  </thead>\n",
       "  <tbody>\n",
       "    <tr>\n",
       "      <th>0</th>\n",
       "      <td>AG-2011-2040</td>\n",
       "      <td>2011-01-01</td>\n",
       "      <td>2011-01-06</td>\n",
       "      <td>Standard Class</td>\n",
       "      <td>Toby Braunhardt</td>\n",
       "      <td>Consumer</td>\n",
       "      <td>Constantine</td>\n",
       "      <td>Algeria</td>\n",
       "      <td>Africa</td>\n",
       "      <td>Africa</td>\n",
       "      <td>...</td>\n",
       "      <td>Office Supplies</td>\n",
       "      <td>Storage</td>\n",
       "      <td>Tenex Lockers, Blue</td>\n",
       "      <td>408.300</td>\n",
       "      <td>2</td>\n",
       "      <td>0.0</td>\n",
       "      <td>106.140</td>\n",
       "      <td>35.46</td>\n",
       "      <td>Medium</td>\n",
       "      <td>2011</td>\n",
       "    </tr>\n",
       "    <tr>\n",
       "      <th>1</th>\n",
       "      <td>IN-2011-47883</td>\n",
       "      <td>2011-01-01</td>\n",
       "      <td>2011-01-08</td>\n",
       "      <td>Standard Class</td>\n",
       "      <td>Joseph Holt</td>\n",
       "      <td>Consumer</td>\n",
       "      <td>New South Wales</td>\n",
       "      <td>Australia</td>\n",
       "      <td>APAC</td>\n",
       "      <td>Oceania</td>\n",
       "      <td>...</td>\n",
       "      <td>Office Supplies</td>\n",
       "      <td>Supplies</td>\n",
       "      <td>Acme Trimmer, High Speed</td>\n",
       "      <td>120.366</td>\n",
       "      <td>3</td>\n",
       "      <td>0.1</td>\n",
       "      <td>36.036</td>\n",
       "      <td>9.72</td>\n",
       "      <td>Medium</td>\n",
       "      <td>2011</td>\n",
       "    </tr>\n",
       "    <tr>\n",
       "      <th>2</th>\n",
       "      <td>HU-2011-1220</td>\n",
       "      <td>2011-01-01</td>\n",
       "      <td>2011-01-05</td>\n",
       "      <td>Second Class</td>\n",
       "      <td>Annie Thurman</td>\n",
       "      <td>Consumer</td>\n",
       "      <td>Budapest</td>\n",
       "      <td>Hungary</td>\n",
       "      <td>EMEA</td>\n",
       "      <td>EMEA</td>\n",
       "      <td>...</td>\n",
       "      <td>Office Supplies</td>\n",
       "      <td>Storage</td>\n",
       "      <td>Tenex Box, Single Width</td>\n",
       "      <td>66.120</td>\n",
       "      <td>4</td>\n",
       "      <td>0.0</td>\n",
       "      <td>29.640</td>\n",
       "      <td>8.17</td>\n",
       "      <td>High</td>\n",
       "      <td>2011</td>\n",
       "    </tr>\n",
       "    <tr>\n",
       "      <th>3</th>\n",
       "      <td>IT-2011-3647632</td>\n",
       "      <td>2011-01-01</td>\n",
       "      <td>2011-01-05</td>\n",
       "      <td>Second Class</td>\n",
       "      <td>Eugene Moren</td>\n",
       "      <td>Home Office</td>\n",
       "      <td>Stockholm</td>\n",
       "      <td>Sweden</td>\n",
       "      <td>EU</td>\n",
       "      <td>North</td>\n",
       "      <td>...</td>\n",
       "      <td>Office Supplies</td>\n",
       "      <td>Paper</td>\n",
       "      <td>Enermax Note Cards, Premium</td>\n",
       "      <td>44.865</td>\n",
       "      <td>3</td>\n",
       "      <td>0.5</td>\n",
       "      <td>-26.055</td>\n",
       "      <td>4.82</td>\n",
       "      <td>High</td>\n",
       "      <td>2011</td>\n",
       "    </tr>\n",
       "    <tr>\n",
       "      <th>4</th>\n",
       "      <td>IN-2011-47883</td>\n",
       "      <td>2011-01-01</td>\n",
       "      <td>2011-01-08</td>\n",
       "      <td>Standard Class</td>\n",
       "      <td>Joseph Holt</td>\n",
       "      <td>Consumer</td>\n",
       "      <td>New South Wales</td>\n",
       "      <td>Australia</td>\n",
       "      <td>APAC</td>\n",
       "      <td>Oceania</td>\n",
       "      <td>...</td>\n",
       "      <td>Furniture</td>\n",
       "      <td>Furnishings</td>\n",
       "      <td>Eldon Light Bulb, Duo Pack</td>\n",
       "      <td>113.670</td>\n",
       "      <td>5</td>\n",
       "      <td>0.1</td>\n",
       "      <td>37.770</td>\n",
       "      <td>4.70</td>\n",
       "      <td>Medium</td>\n",
       "      <td>2011</td>\n",
       "    </tr>\n",
       "  </tbody>\n",
       "</table>\n",
       "<p>5 rows × 21 columns</p>\n",
       "</div>"
      ],
      "text/plain": [
       "          order_id order_date  ship_date       ship_mode    customer_name  \\\n",
       "0     AG-2011-2040 2011-01-01 2011-01-06  Standard Class  Toby Braunhardt   \n",
       "1    IN-2011-47883 2011-01-01 2011-01-08  Standard Class      Joseph Holt   \n",
       "2     HU-2011-1220 2011-01-01 2011-01-05    Second Class    Annie Thurman   \n",
       "3  IT-2011-3647632 2011-01-01 2011-01-05    Second Class     Eugene Moren   \n",
       "4    IN-2011-47883 2011-01-01 2011-01-08  Standard Class      Joseph Holt   \n",
       "\n",
       "       segment            state    country  market   region  ...  \\\n",
       "0     Consumer      Constantine    Algeria  Africa   Africa  ...   \n",
       "1     Consumer  New South Wales  Australia    APAC  Oceania  ...   \n",
       "2     Consumer         Budapest    Hungary    EMEA     EMEA  ...   \n",
       "3  Home Office        Stockholm     Sweden      EU    North  ...   \n",
       "4     Consumer  New South Wales  Australia    APAC  Oceania  ...   \n",
       "\n",
       "          category sub_category                 product_name    sales  \\\n",
       "0  Office Supplies      Storage          Tenex Lockers, Blue  408.300   \n",
       "1  Office Supplies     Supplies     Acme Trimmer, High Speed  120.366   \n",
       "2  Office Supplies      Storage      Tenex Box, Single Width   66.120   \n",
       "3  Office Supplies        Paper  Enermax Note Cards, Premium   44.865   \n",
       "4        Furniture  Furnishings   Eldon Light Bulb, Duo Pack  113.670   \n",
       "\n",
       "   quantity  discount   profit  shipping_cost  order_priority  year  \n",
       "0         2       0.0  106.140          35.46          Medium  2011  \n",
       "1         3       0.1   36.036           9.72          Medium  2011  \n",
       "2         4       0.0   29.640           8.17            High  2011  \n",
       "3         3       0.5  -26.055           4.82            High  2011  \n",
       "4         5       0.1   37.770           4.70          Medium  2011  \n",
       "\n",
       "[5 rows x 21 columns]"
      ]
     },
     "execution_count": 3,
     "metadata": {},
     "output_type": "execute_result"
    }
   ],
   "source": [
    "# read the excel file with sales data\n",
    "\n",
    "df_sales = pd.read_excel('superstore_sales.xlsx')\n",
    "df_sales.head(5)"
   ]
  },
  {
   "cell_type": "code",
   "execution_count": 4,
   "id": "79a82247",
   "metadata": {},
   "outputs": [
    {
     "name": "stdout",
     "output_type": "stream",
     "text": [
      "<class 'pandas.core.frame.DataFrame'>\n",
      "RangeIndex: 51290 entries, 0 to 51289\n",
      "Data columns (total 21 columns):\n",
      " #   Column          Non-Null Count  Dtype         \n",
      "---  ------          --------------  -----         \n",
      " 0   order_id        51290 non-null  object        \n",
      " 1   order_date      51290 non-null  datetime64[ns]\n",
      " 2   ship_date       51290 non-null  datetime64[ns]\n",
      " 3   ship_mode       51290 non-null  object        \n",
      " 4   customer_name   51290 non-null  object        \n",
      " 5   segment         51290 non-null  object        \n",
      " 6   state           51290 non-null  object        \n",
      " 7   country         51290 non-null  object        \n",
      " 8   market          51290 non-null  object        \n",
      " 9   region          51290 non-null  object        \n",
      " 10  product_id      51290 non-null  object        \n",
      " 11  category        51290 non-null  object        \n",
      " 12  sub_category    51290 non-null  object        \n",
      " 13  product_name    51290 non-null  object        \n",
      " 14  sales           51290 non-null  float64       \n",
      " 15  quantity        51290 non-null  int64         \n",
      " 16  discount        51290 non-null  float64       \n",
      " 17  profit          51290 non-null  float64       \n",
      " 18  shipping_cost   51290 non-null  float64       \n",
      " 19  order_priority  51290 non-null  object        \n",
      " 20  year            51290 non-null  int64         \n",
      "dtypes: datetime64[ns](2), float64(4), int64(2), object(13)\n",
      "memory usage: 8.2+ MB\n"
     ]
    }
   ],
   "source": [
    "# A brief summary of the data\n",
    "df_sales.info()"
   ]
  },
  {
   "cell_type": "code",
   "execution_count": 5,
   "id": "127bcd12",
   "metadata": {},
   "outputs": [
    {
     "data": {
      "text/plain": [
       "order_id          0\n",
       "order_date        0\n",
       "ship_date         0\n",
       "ship_mode         0\n",
       "customer_name     0\n",
       "segment           0\n",
       "state             0\n",
       "country           0\n",
       "market            0\n",
       "region            0\n",
       "product_id        0\n",
       "category          0\n",
       "sub_category      0\n",
       "product_name      0\n",
       "sales             0\n",
       "quantity          0\n",
       "discount          0\n",
       "profit            0\n",
       "shipping_cost     0\n",
       "order_priority    0\n",
       "year              0\n",
       "dtype: int64"
      ]
     },
     "execution_count": 5,
     "metadata": {},
     "output_type": "execute_result"
    }
   ],
   "source": [
    "# check for missing values\n",
    "df_sales.isnull().sum()"
   ]
  },
  {
   "cell_type": "code",
   "execution_count": 6,
   "id": "2d218c76",
   "metadata": {},
   "outputs": [
    {
     "data": {
      "text/plain": [
       "Index(['order_id', 'order_date', 'ship_date', 'ship_mode', 'customer_name',\n",
       "       'segment', 'state', 'country', 'market', 'region', 'product_id',\n",
       "       'category', 'sub_category', 'product_name', 'sales', 'quantity',\n",
       "       'discount', 'profit', 'shipping_cost', 'order_priority', 'year'],\n",
       "      dtype='object')"
      ]
     },
     "execution_count": 6,
     "metadata": {},
     "output_type": "execute_result"
    }
   ],
   "source": [
    "# what columns are in this dataset\n",
    "df_sales.columns"
   ]
  },
  {
   "cell_type": "markdown",
   "id": "4dfa73e3",
   "metadata": {},
   "source": [
    "<h4> Exploratory Data Analysis </h4>\n"
   ]
  },
  {
   "cell_type": "markdown",
   "id": "e71b01f7",
   "metadata": {},
   "source": [
    "##### what is the overall sales trend?"
   ]
  },
  {
   "cell_type": "code",
   "execution_count": 7,
   "id": "e21b0aa0",
   "metadata": {},
   "outputs": [
    {
     "data": {
      "text/plain": [
       "Timestamp('2011-01-01 00:00:00')"
      ]
     },
     "execution_count": 7,
     "metadata": {},
     "output_type": "execute_result"
    }
   ],
   "source": [
    "df_sales['order_date'].min()"
   ]
  },
  {
   "cell_type": "code",
   "execution_count": 8,
   "id": "3fc7a0e9",
   "metadata": {},
   "outputs": [
    {
     "data": {
      "text/plain": [
       "Timestamp('2014-12-31 00:00:00')"
      ]
     },
     "execution_count": 8,
     "metadata": {},
     "output_type": "execute_result"
    }
   ],
   "source": [
    "df_sales['order_date'].max()"
   ]
  },
  {
   "cell_type": "markdown",
   "id": "590349df",
   "metadata": {},
   "source": [
    "it means the data is between 2011 to 2014\n"
   ]
  },
  {
   "cell_type": "code",
   "execution_count": 9,
   "id": "420e046d",
   "metadata": {},
   "outputs": [],
   "source": [
    "# getting only month-year from the order date in a new column\n",
    "\n",
    "df_sales['month_year'] = df_sales['order_date'].apply(lambda x: x.strftime('%Y-%m'))"
   ]
  },
  {
   "cell_type": "code",
   "execution_count": 10,
   "id": "3ff70994",
   "metadata": {},
   "outputs": [],
   "source": [
    "# Grouping sales on the month-year columns\n",
    "trend_df = df_sales.groupby('month_year').count()['sales'].reset_index()"
   ]
  },
  {
   "cell_type": "code",
   "execution_count": 11,
   "id": "619d051e",
   "metadata": {},
   "outputs": [
    {
     "data": {
      "image/png": "[encoded data removed]",
      "text/plain": [
       "<Figure size 1500x600 with 1 Axes>"
      ]
     },
     "metadata": {},
     "output_type": "display_data"
    }
   ],
   "source": [
    "# setting the plot for this trend\n",
    "plt.figure(figsize=(15,6))\n",
    "plt.plot(trend_df['month_year'], trend_df['sales'])\n",
    "plt.xticks(rotation='vertical', size=8)\n",
    "plt.show()"
   ]
  },
  {
   "cell_type": "markdown",
   "id": "35d27ff6",
   "metadata": {},
   "source": [
    "From this we see that the initial four months, the sales are slow but later picked up..."
   ]
  },
  {
   "cell_type": "markdown",
   "id": "15dc4f48",
   "metadata": {},
   "source": [
    "##### which are the top 10 products by sales?"
   ]
  },
  {
   "cell_type": "code",
   "execution_count": 12,
   "id": "82471af1",
   "metadata": {},
   "outputs": [
    {
     "data": {
      "text/html": [
       "<div>\n",
       "<style scoped>\n",
       "    .dataframe tbody tr th:only-of-type {\n",
       "        vertical-align: middle;\n",
       "    }\n",
       "\n",
       "    .dataframe tbody tr th {\n",
       "        vertical-align: top;\n",
       "    }\n",
       "\n",
       "    .dataframe thead th {\n",
       "        text-align: right;\n",
       "    }\n",
       "</style>\n",
       "<table border=\"1\" class=\"dataframe\">\n",
       "  <thead>\n",
       "    <tr style=\"text-align: right;\">\n",
       "      <th></th>\n",
       "      <th>sales</th>\n",
       "    </tr>\n",
       "    <tr>\n",
       "      <th>product_name</th>\n",
       "      <th></th>\n",
       "    </tr>\n",
       "  </thead>\n",
       "  <tbody>\n",
       "    <tr>\n",
       "      <th>\"While you Were Out\" Message Book, One Form per Page</th>\n",
       "      <td>25.228</td>\n",
       "    </tr>\n",
       "    <tr>\n",
       "      <th>#10 Gummed Flap White Envelopes, 100/Box</th>\n",
       "      <td>41.300</td>\n",
       "    </tr>\n",
       "    <tr>\n",
       "      <th>#10 Self-Seal White Envelopes</th>\n",
       "      <td>108.682</td>\n",
       "    </tr>\n",
       "    <tr>\n",
       "      <th>#10 White Business Envelopes,4 1/8 x 9 1/2</th>\n",
       "      <td>488.904</td>\n",
       "    </tr>\n",
       "    <tr>\n",
       "      <th>#10- 4 1/8\" x 9 1/2\" Recycled Envelopes</th>\n",
       "      <td>286.672</td>\n",
       "    </tr>\n",
       "    <tr>\n",
       "      <th>...</th>\n",
       "      <td>...</td>\n",
       "    </tr>\n",
       "    <tr>\n",
       "      <th>iKross Bluetooth Portable Keyboard + Cell Phone Stand Holder + Brush for Apple iPhone 5S 5C 5, 4S 4</th>\n",
       "      <td>477.660</td>\n",
       "    </tr>\n",
       "    <tr>\n",
       "      <th>iOttie HLCRIO102 Car Mount</th>\n",
       "      <td>215.892</td>\n",
       "    </tr>\n",
       "    <tr>\n",
       "      <th>iOttie XL Car Mount</th>\n",
       "      <td>223.888</td>\n",
       "    </tr>\n",
       "    <tr>\n",
       "      <th>invisibleSHIELD by ZAGG Smudge-Free Screen Protector</th>\n",
       "      <td>442.554</td>\n",
       "    </tr>\n",
       "    <tr>\n",
       "      <th>netTALK DUO VoIP Telephone Service</th>\n",
       "      <td>1112.788</td>\n",
       "    </tr>\n",
       "  </tbody>\n",
       "</table>\n",
       "<p>3788 rows × 1 columns</p>\n",
       "</div>"
      ],
      "text/plain": [
       "                                                       sales\n",
       "product_name                                                \n",
       "\"While you Were Out\" Message Book, One Form per...    25.228\n",
       "#10 Gummed Flap White Envelopes, 100/Box              41.300\n",
       "#10 Self-Seal White Envelopes                        108.682\n",
       "#10 White Business Envelopes,4 1/8 x 9 1/2           488.904\n",
       "#10- 4 1/8\" x 9 1/2\" Recycled Envelopes              286.672\n",
       "...                                                      ...\n",
       "iKross Bluetooth Portable Keyboard + Cell Phone...   477.660\n",
       "iOttie HLCRIO102 Car Mount                           215.892\n",
       "iOttie XL Car Mount                                  223.888\n",
       "invisibleSHIELD by ZAGG Smudge-Free Screen Prot...   442.554\n",
       "netTALK DUO VoIP Telephone Service                  1112.788\n",
       "\n",
       "[3788 rows x 1 columns]"
      ]
     },
     "execution_count": 12,
     "metadata": {},
     "output_type": "execute_result"
    }
   ],
   "source": [
    "# Grouping product name by sales\n",
    "\n",
    "top10 = pd.DataFrame(df_sales.groupby('product_name').sum(numeric_only=True)['sales'])\n",
    "top10"
   ]
  },
  {
   "cell_type": "code",
   "execution_count": 13,
   "id": "c0f72fdc",
   "metadata": {},
   "outputs": [
    {
     "data": {
      "text/html": [
       "<div>\n",
       "<style scoped>\n",
       "    .dataframe tbody tr th:only-of-type {\n",
       "        vertical-align: middle;\n",
       "    }\n",
       "\n",
       "    .dataframe tbody tr th {\n",
       "        vertical-align: top;\n",
       "    }\n",
       "\n",
       "    .dataframe thead th {\n",
       "        text-align: right;\n",
       "    }\n",
       "</style>\n",
       "<table border=\"1\" class=\"dataframe\">\n",
       "  <thead>\n",
       "    <tr style=\"text-align: right;\">\n",
       "      <th></th>\n",
       "      <th>sales</th>\n",
       "    </tr>\n",
       "    <tr>\n",
       "      <th>product_name</th>\n",
       "      <th></th>\n",
       "    </tr>\n",
       "  </thead>\n",
       "  <tbody>\n",
       "    <tr>\n",
       "      <th>Apple Smart Phone, Full Size</th>\n",
       "      <td>86935.7786</td>\n",
       "    </tr>\n",
       "    <tr>\n",
       "      <th>Cisco Smart Phone, Full Size</th>\n",
       "      <td>76441.5306</td>\n",
       "    </tr>\n",
       "    <tr>\n",
       "      <th>Motorola Smart Phone, Full Size</th>\n",
       "      <td>73156.3030</td>\n",
       "    </tr>\n",
       "    <tr>\n",
       "      <th>Nokia Smart Phone, Full Size</th>\n",
       "      <td>71904.5555</td>\n",
       "    </tr>\n",
       "    <tr>\n",
       "      <th>Canon imageCLASS 2200 Advanced Copier</th>\n",
       "      <td>61599.8240</td>\n",
       "    </tr>\n",
       "    <tr>\n",
       "      <th>Hon Executive Leather Armchair, Adjustable</th>\n",
       "      <td>58193.4841</td>\n",
       "    </tr>\n",
       "    <tr>\n",
       "      <th>Office Star Executive Leather Armchair, Adjustable</th>\n",
       "      <td>50661.6840</td>\n",
       "    </tr>\n",
       "    <tr>\n",
       "      <th>Harbour Creations Executive Leather Armchair, Adjustable</th>\n",
       "      <td>50121.5160</td>\n",
       "    </tr>\n",
       "    <tr>\n",
       "      <th>Samsung Smart Phone, Cordless</th>\n",
       "      <td>48653.4600</td>\n",
       "    </tr>\n",
       "    <tr>\n",
       "      <th>Nokia Smart Phone, with Caller ID</th>\n",
       "      <td>47877.7857</td>\n",
       "    </tr>\n",
       "  </tbody>\n",
       "</table>\n",
       "</div>"
      ],
      "text/plain": [
       "                                                         sales\n",
       "product_name                                                  \n",
       "Apple Smart Phone, Full Size                        86935.7786\n",
       "Cisco Smart Phone, Full Size                        76441.5306\n",
       "Motorola Smart Phone, Full Size                     73156.3030\n",
       "Nokia Smart Phone, Full Size                        71904.5555\n",
       "Canon imageCLASS 2200 Advanced Copier               61599.8240\n",
       "Hon Executive Leather Armchair, Adjustable          58193.4841\n",
       "Office Star Executive Leather Armchair, Adjustable  50661.6840\n",
       "Harbour Creations Executive Leather Armchair, A...  50121.5160\n",
       "Samsung Smart Phone, Cordless                       48653.4600\n",
       "Nokia Smart Phone, with Caller ID                   47877.7857"
      ]
     },
     "execution_count": 13,
     "metadata": {},
     "output_type": "execute_result"
    }
   ],
   "source": [
    "top10_df = top10.sort_values('sales', ascending=False)[:10]\n",
    "top10_df"
   ]
  },
  {
   "cell_type": "markdown",
   "id": "2b518a25",
   "metadata": {},
   "source": [
    "##### which are the most selling products?"
   ]
  },
  {
   "cell_type": "code",
   "execution_count": 14,
   "id": "dfcd0416",
   "metadata": {},
   "outputs": [],
   "source": [
    "# grouping the product name\n",
    "most_selling_df = pd.DataFrame(df_sales.groupby('product_name').count()['quantity'])"
   ]
  },
  {
   "cell_type": "code",
   "execution_count": 15,
   "id": "33c74208",
   "metadata": {},
   "outputs": [
    {
     "data": {
      "text/html": [
       "<div>\n",
       "<style scoped>\n",
       "    .dataframe tbody tr th:only-of-type {\n",
       "        vertical-align: middle;\n",
       "    }\n",
       "\n",
       "    .dataframe tbody tr th {\n",
       "        vertical-align: top;\n",
       "    }\n",
       "\n",
       "    .dataframe thead th {\n",
       "        text-align: right;\n",
       "    }\n",
       "</style>\n",
       "<table border=\"1\" class=\"dataframe\">\n",
       "  <thead>\n",
       "    <tr style=\"text-align: right;\">\n",
       "      <th></th>\n",
       "      <th>quantity</th>\n",
       "    </tr>\n",
       "    <tr>\n",
       "      <th>product_name</th>\n",
       "      <th></th>\n",
       "    </tr>\n",
       "  </thead>\n",
       "  <tbody>\n",
       "    <tr>\n",
       "      <th>Staples</th>\n",
       "      <td>227</td>\n",
       "    </tr>\n",
       "    <tr>\n",
       "      <th>Cardinal Index Tab, Clear</th>\n",
       "      <td>92</td>\n",
       "    </tr>\n",
       "    <tr>\n",
       "      <th>Eldon File Cart, Single Width</th>\n",
       "      <td>90</td>\n",
       "    </tr>\n",
       "    <tr>\n",
       "      <th>Rogers File Cart, Single Width</th>\n",
       "      <td>84</td>\n",
       "    </tr>\n",
       "    <tr>\n",
       "      <th>Ibico Index Tab, Clear</th>\n",
       "      <td>83</td>\n",
       "    </tr>\n",
       "    <tr>\n",
       "      <th>Sanford Pencil Sharpener, Water Color</th>\n",
       "      <td>80</td>\n",
       "    </tr>\n",
       "    <tr>\n",
       "      <th>Smead File Cart, Single Width</th>\n",
       "      <td>77</td>\n",
       "    </tr>\n",
       "    <tr>\n",
       "      <th>Stanley Pencil Sharpener, Water Color</th>\n",
       "      <td>75</td>\n",
       "    </tr>\n",
       "    <tr>\n",
       "      <th>Acco Index Tab, Clear</th>\n",
       "      <td>75</td>\n",
       "    </tr>\n",
       "    <tr>\n",
       "      <th>Avery Index Tab, Clear</th>\n",
       "      <td>74</td>\n",
       "    </tr>\n",
       "  </tbody>\n",
       "</table>\n",
       "</div>"
      ],
      "text/plain": [
       "                                       quantity\n",
       "product_name                                   \n",
       "Staples                                     227\n",
       "Cardinal Index Tab, Clear                    92\n",
       "Eldon File Cart, Single Width                90\n",
       "Rogers File Cart, Single Width               84\n",
       "Ibico Index Tab, Clear                       83\n",
       "Sanford Pencil Sharpener, Water Color        80\n",
       "Smead File Cart, Single Width                77\n",
       "Stanley Pencil Sharpener, Water Color        75\n",
       "Acco Index Tab, Clear                        75\n",
       "Avery Index Tab, Clear                       74"
      ]
     },
     "execution_count": 15,
     "metadata": {},
     "output_type": "execute_result"
    }
   ],
   "source": [
    "most_selling_df = most_selling_df.sort_values('quantity', ascending=False)[:10]\n",
    "most_selling_df"
   ]
  },
  {
   "cell_type": "markdown",
   "id": "0ac2b28b",
   "metadata": {},
   "source": [
    "Q5. What is the most preferred ship mode?"
   ]
  },
  {
   "cell_type": "code",
   "execution_count": 40,
   "id": "cc330caa",
   "metadata": {},
   "outputs": [
    {
     "data": {
      "text/html": [
       "<div>\n",
       "<style scoped>\n",
       "    .dataframe tbody tr th:only-of-type {\n",
       "        vertical-align: middle;\n",
       "    }\n",
       "\n",
       "    .dataframe tbody tr th {\n",
       "        vertical-align: top;\n",
       "    }\n",
       "\n",
       "    .dataframe thead th {\n",
       "        text-align: right;\n",
       "    }\n",
       "</style>\n",
       "<table border=\"1\" class=\"dataframe\">\n",
       "  <thead>\n",
       "    <tr style=\"text-align: right;\">\n",
       "      <th></th>\n",
       "      <th>ship_mode</th>\n",
       "      <th>count</th>\n",
       "    </tr>\n",
       "  </thead>\n",
       "  <tbody>\n",
       "    <tr>\n",
       "      <th>0</th>\n",
       "      <td>Standard Class</td>\n",
       "      <td>30775</td>\n",
       "    </tr>\n",
       "    <tr>\n",
       "      <th>1</th>\n",
       "      <td>Second Class</td>\n",
       "      <td>10309</td>\n",
       "    </tr>\n",
       "    <tr>\n",
       "      <th>2</th>\n",
       "      <td>First Class</td>\n",
       "      <td>7505</td>\n",
       "    </tr>\n",
       "    <tr>\n",
       "      <th>3</th>\n",
       "      <td>Same Day</td>\n",
       "      <td>2701</td>\n",
       "    </tr>\n",
       "  </tbody>\n",
       "</table>\n",
       "</div>"
      ],
      "text/plain": [
       "        ship_mode  count\n",
       "0  Standard Class  30775\n",
       "1    Second Class  10309\n",
       "2     First Class   7505\n",
       "3        Same Day   2701"
      ]
     },
     "execution_count": 40,
     "metadata": {},
     "output_type": "execute_result"
    }
   ],
   "source": [
    "most_preferred_shp_df = pd.DataFrame(df_sales['ship_mode'].value_counts()).reset_index()\n",
    "most_preferred_shp_df"
   ]
  },
  {
   "cell_type": "code",
   "execution_count": 41,
   "id": "433cb6be",
   "metadata": {},
   "outputs": [
    {
     "data": {
      "image/png": "[encoded data removed]",
      "text/plain": [
       "<Figure size 640x480 with 1 Axes>"
      ]
     },
     "metadata": {},
     "output_type": "display_data"
    }
   ],
   "source": [
    "# Plot the barchart\n",
    "sns.barplot(data=most_preferred_shp_df, x='ship_mode', y='count', palette='viridis')\n",
    "\n",
    "plt.title('Shipping mode')\n",
    "plt.ylabel('Count')\n",
    "plt.xlabel('shipping mode')\n",
    "plt.show()"
   ]
  },
  {
   "cell_type": "code",
   "execution_count": 29,
   "id": "d2017ab9",
   "metadata": {},
   "outputs": [
    {
     "data": {
      "text/plain": [
       "count    Standard Class\n",
       "dtype: object"
      ]
     },
     "execution_count": 29,
     "metadata": {},
     "output_type": "execute_result"
    }
   ],
   "source": [
    "most_preferred_shp_df.idxmax()"
   ]
  },
  {
   "cell_type": "markdown",
   "id": "e5ebb79b",
   "metadata": {},
   "source": [
    "From here, we see that 'Standard Class' is the most preferred ship mode"
   ]
  },
  {
   "cell_type": "markdown",
   "id": "4592a465",
   "metadata": {},
   "source": [
    "Which are the most profitable category and sub-category?"
   ]
  },
  {
   "cell_type": "code",
   "execution_count": 36,
   "id": "9aef765a",
   "metadata": {},
   "outputs": [
    {
     "data": {
      "text/html": [
       "<div>\n",
       "<style scoped>\n",
       "    .dataframe tbody tr th:only-of-type {\n",
       "        vertical-align: middle;\n",
       "    }\n",
       "\n",
       "    .dataframe tbody tr th {\n",
       "        vertical-align: top;\n",
       "    }\n",
       "\n",
       "    .dataframe thead th {\n",
       "        text-align: right;\n",
       "    }\n",
       "</style>\n",
       "<table border=\"1\" class=\"dataframe\">\n",
       "  <thead>\n",
       "    <tr style=\"text-align: right;\">\n",
       "      <th></th>\n",
       "      <th></th>\n",
       "      <th>profit</th>\n",
       "    </tr>\n",
       "    <tr>\n",
       "      <th>category</th>\n",
       "      <th>sub_category</th>\n",
       "      <th></th>\n",
       "    </tr>\n",
       "  </thead>\n",
       "  <tbody>\n",
       "    <tr>\n",
       "      <th rowspan=\"4\" valign=\"top\">Furniture</th>\n",
       "      <th>Bookcases</th>\n",
       "      <td>161924.41950</td>\n",
       "    </tr>\n",
       "    <tr>\n",
       "      <th>Chairs</th>\n",
       "      <td>141973.79750</td>\n",
       "    </tr>\n",
       "    <tr>\n",
       "      <th>Furnishings</th>\n",
       "      <td>46967.42550</td>\n",
       "    </tr>\n",
       "    <tr>\n",
       "      <th>Tables</th>\n",
       "      <td>-64083.38870</td>\n",
       "    </tr>\n",
       "    <tr>\n",
       "      <th rowspan=\"9\" valign=\"top\">Office Supplies</th>\n",
       "      <th>Appliances</th>\n",
       "      <td>141680.58940</td>\n",
       "    </tr>\n",
       "    <tr>\n",
       "      <th>Art</th>\n",
       "      <td>57953.91090</td>\n",
       "    </tr>\n",
       "    <tr>\n",
       "      <th>Binders</th>\n",
       "      <td>72449.84600</td>\n",
       "    </tr>\n",
       "    <tr>\n",
       "      <th>Envelopes</th>\n",
       "      <td>29601.11630</td>\n",
       "    </tr>\n",
       "    <tr>\n",
       "      <th>Fasteners</th>\n",
       "      <td>11525.42410</td>\n",
       "    </tr>\n",
       "    <tr>\n",
       "      <th>Labels</th>\n",
       "      <td>15010.51200</td>\n",
       "    </tr>\n",
       "    <tr>\n",
       "      <th>Paper</th>\n",
       "      <td>59207.68270</td>\n",
       "    </tr>\n",
       "    <tr>\n",
       "      <th>Storage</th>\n",
       "      <td>108461.48980</td>\n",
       "    </tr>\n",
       "    <tr>\n",
       "      <th>Supplies</th>\n",
       "      <td>22583.26310</td>\n",
       "    </tr>\n",
       "    <tr>\n",
       "      <th rowspan=\"4\" valign=\"top\">Technology</th>\n",
       "      <th>Accessories</th>\n",
       "      <td>129626.30620</td>\n",
       "    </tr>\n",
       "    <tr>\n",
       "      <th>Copiers</th>\n",
       "      <td>258567.54818</td>\n",
       "    </tr>\n",
       "    <tr>\n",
       "      <th>Machines</th>\n",
       "      <td>58867.87300</td>\n",
       "    </tr>\n",
       "    <tr>\n",
       "      <th>Phones</th>\n",
       "      <td>216717.00580</td>\n",
       "    </tr>\n",
       "  </tbody>\n",
       "</table>\n",
       "</div>"
      ],
      "text/plain": [
       "                                    profit\n",
       "category        sub_category              \n",
       "Furniture       Bookcases     161924.41950\n",
       "                Chairs        141973.79750\n",
       "                Furnishings    46967.42550\n",
       "                Tables        -64083.38870\n",
       "Office Supplies Appliances    141680.58940\n",
       "                Art            57953.91090\n",
       "                Binders        72449.84600\n",
       "                Envelopes      29601.11630\n",
       "                Fasteners      11525.42410\n",
       "                Labels         15010.51200\n",
       "                Paper          59207.68270\n",
       "                Storage       108461.48980\n",
       "                Supplies       22583.26310\n",
       "Technology      Accessories   129626.30620\n",
       "                Copiers       258567.54818\n",
       "                Machines       58867.87300\n",
       "                Phones        216717.00580"
      ]
     },
     "execution_count": 36,
     "metadata": {},
     "output_type": "execute_result"
    }
   ],
   "source": [
    "cat_subcat = pd.DataFrame(df_sales.groupby(['category', 'sub_category']).sum(numeric_only=True)['profit'])\n",
    "cat_subcat"
   ]
  },
  {
   "cell_type": "code",
   "execution_count": 37,
   "id": "6d76c20c",
   "metadata": {},
   "outputs": [
    {
     "data": {
      "text/html": [
       "<div>\n",
       "<style scoped>\n",
       "    .dataframe tbody tr th:only-of-type {\n",
       "        vertical-align: middle;\n",
       "    }\n",
       "\n",
       "    .dataframe tbody tr th {\n",
       "        vertical-align: top;\n",
       "    }\n",
       "\n",
       "    .dataframe thead th {\n",
       "        text-align: right;\n",
       "    }\n",
       "</style>\n",
       "<table border=\"1\" class=\"dataframe\">\n",
       "  <thead>\n",
       "    <tr style=\"text-align: right;\">\n",
       "      <th></th>\n",
       "      <th></th>\n",
       "      <th>profit</th>\n",
       "    </tr>\n",
       "    <tr>\n",
       "      <th>category</th>\n",
       "      <th>sub_category</th>\n",
       "      <th></th>\n",
       "    </tr>\n",
       "  </thead>\n",
       "  <tbody>\n",
       "    <tr>\n",
       "      <th rowspan=\"4\" valign=\"top\">Technology</th>\n",
       "      <th>Phones</th>\n",
       "      <td>216717.00580</td>\n",
       "    </tr>\n",
       "    <tr>\n",
       "      <th>Machines</th>\n",
       "      <td>58867.87300</td>\n",
       "    </tr>\n",
       "    <tr>\n",
       "      <th>Copiers</th>\n",
       "      <td>258567.54818</td>\n",
       "    </tr>\n",
       "    <tr>\n",
       "      <th>Accessories</th>\n",
       "      <td>129626.30620</td>\n",
       "    </tr>\n",
       "    <tr>\n",
       "      <th rowspan=\"9\" valign=\"top\">Office Supplies</th>\n",
       "      <th>Supplies</th>\n",
       "      <td>22583.26310</td>\n",
       "    </tr>\n",
       "    <tr>\n",
       "      <th>Storage</th>\n",
       "      <td>108461.48980</td>\n",
       "    </tr>\n",
       "    <tr>\n",
       "      <th>Paper</th>\n",
       "      <td>59207.68270</td>\n",
       "    </tr>\n",
       "    <tr>\n",
       "      <th>Labels</th>\n",
       "      <td>15010.51200</td>\n",
       "    </tr>\n",
       "    <tr>\n",
       "      <th>Fasteners</th>\n",
       "      <td>11525.42410</td>\n",
       "    </tr>\n",
       "    <tr>\n",
       "      <th>Envelopes</th>\n",
       "      <td>29601.11630</td>\n",
       "    </tr>\n",
       "    <tr>\n",
       "      <th>Binders</th>\n",
       "      <td>72449.84600</td>\n",
       "    </tr>\n",
       "    <tr>\n",
       "      <th>Art</th>\n",
       "      <td>57953.91090</td>\n",
       "    </tr>\n",
       "    <tr>\n",
       "      <th>Appliances</th>\n",
       "      <td>141680.58940</td>\n",
       "    </tr>\n",
       "    <tr>\n",
       "      <th rowspan=\"4\" valign=\"top\">Furniture</th>\n",
       "      <th>Tables</th>\n",
       "      <td>-64083.38870</td>\n",
       "    </tr>\n",
       "    <tr>\n",
       "      <th>Furnishings</th>\n",
       "      <td>46967.42550</td>\n",
       "    </tr>\n",
       "    <tr>\n",
       "      <th>Chairs</th>\n",
       "      <td>141973.79750</td>\n",
       "    </tr>\n",
       "    <tr>\n",
       "      <th>Bookcases</th>\n",
       "      <td>161924.41950</td>\n",
       "    </tr>\n",
       "  </tbody>\n",
       "</table>\n",
       "</div>"
      ],
      "text/plain": [
       "                                    profit\n",
       "category        sub_category              \n",
       "Technology      Phones        216717.00580\n",
       "                Machines       58867.87300\n",
       "                Copiers       258567.54818\n",
       "                Accessories   129626.30620\n",
       "Office Supplies Supplies       22583.26310\n",
       "                Storage       108461.48980\n",
       "                Paper          59207.68270\n",
       "                Labels         15010.51200\n",
       "                Fasteners      11525.42410\n",
       "                Envelopes      29601.11630\n",
       "                Binders        72449.84600\n",
       "                Art            57953.91090\n",
       "                Appliances    141680.58940\n",
       "Furniture       Tables        -64083.38870\n",
       "                Furnishings    46967.42550\n",
       "                Chairs        141973.79750\n",
       "                Bookcases     161924.41950"
      ]
     },
     "execution_count": 37,
     "metadata": {},
     "output_type": "execute_result"
    }
   ],
   "source": [
    "cat_subcat.sort_values(['category', 'sub_category'], ascending=False)"
   ]
  },
  {
   "cell_type": "code",
   "execution_count": null,
   "id": "f715c5b1",
   "metadata": {},
   "outputs": [],
   "source": []
  }
 ],
 "metadata": {
  "kernelspec": {
   "display_name": "royenv",
   "language": "python",
   "name": "python3"
  },
  "language_info": {
   "codemirror_mode": {
    "name": "ipython",
    "version": 3
   },
   "file_extension": ".py",
   "mimetype": "text/x-python",
   "name": "python",
   "nbconvert_exporter": "python",
   "pygments_lexer": "ipython3",
   "version": "3.10.13"
  }
 },
 "nbformat": 4,
 "nbformat_minor": 5
}
